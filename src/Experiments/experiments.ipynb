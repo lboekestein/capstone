{
 "cells": [
  {
   "cell_type": "markdown",
   "metadata": {},
   "source": [
    "# Trying out ways to retrieve datasets\n",
    "\n",
    "Quickly experimenting and testing out different methods that could be useful\n",
    "\n",
    "### GDELT & Google BigQuery\n",
    "\n",
    "Import BigQuery and set up Client"
   ]
  },
  {
   "cell_type": "code",
   "execution_count": 8,
   "metadata": {},
   "outputs": [],
   "source": [
    "import requests\n",
    "from google.cloud import bigquery"
   ]
  },
  {
   "cell_type": "code",
   "execution_count": 9,
   "metadata": {},
   "outputs": [],
   "source": [
    "client = bigquery.Client()"
   ]
  },
  {
   "cell_type": "code",
   "execution_count": 4,
   "metadata": {},
   "outputs": [],
   "source": [
    "dataset_ref = client.dataset(\"gdeltv2\", project=\"gdelt-bq\")\n",
    "dataset = client.get_dataset(dataset_ref)\n",
    "tables = list(client.list_tables(dataset))"
   ]
  },
  {
   "cell_type": "markdown",
   "metadata": {},
   "source": [
    "Setup dryrun query"
   ]
  },
  {
   "cell_type": "code",
   "execution_count": 5,
   "metadata": {},
   "outputs": [],
   "source": [
    "job_config = bigquery.QueryJobConfig(dry_run=True, use_query_cache=False)\n",
    "\n",
    "query = \"\"\"\n",
    "        SELECT GKGRECORDID, DATE, SourceCollectionIdentifier, SourceCommonName, V2Themes, V2Tone, Dates, GCAM, Amounts, TranslationInfo\n",
    "        FROM `gdelt-bq.gdeltv2.gkg`\n",
    "        LIMIT 300\n",
    "        \"\"\""
   ]
  },
  {
   "cell_type": "markdown",
   "metadata": {},
   "source": [
    "Run the Query dry and display estimated amount of bytes used"
   ]
  },
  {
   "cell_type": "code",
   "execution_count": 6,
   "metadata": {},
   "outputs": [
    {
     "name": "stdout",
     "output_type": "stream",
     "text": [
      "This query will process 14948953384706 bytes.\n"
     ]
    }
   ],
   "source": [
    "query_job = client.query(query, job_config=job_config)\n",
    "\n",
    "print(\"This query will process {} bytes.\".format(query_job.total_bytes_processed))"
   ]
  },
  {
   "cell_type": "markdown",
   "metadata": {},
   "source": [
    "`14948953384706` bytes equals `14.95` TB of Queried data, which is too much for the free tier, and approximates to about €90 of credits in Google BigQuery"
   ]
  },
  {
   "cell_type": "markdown",
   "metadata": {},
   "source": [
    "# Directly retrieve CSV's from GDELT\n",
    "\n",
    "This would be the way to retrieve the individual parts of the dataset manually"
   ]
  },
  {
   "cell_type": "code",
   "execution_count": 10,
   "metadata": {},
   "outputs": [
    {
     "name": "stdout",
     "output_type": "stream",
     "text": [
      "File size: 9117874 bytes\n"
     ]
    }
   ],
   "source": [
    "url = \"http://data.gdeltproject.org/gdeltv2/20150218224500.translation.gkg.csv.zip\"\n",
    "response = requests.head(url)\n",
    "if response.status_code == 200:\n",
    "    print(\"File size:\", response.headers['Content-Length'], \"bytes\")\n",
    "else:\n",
    "    print(\"Error:\", response.status_code)"
   ]
  },
  {
   "cell_type": "markdown",
   "metadata": {},
   "source": [
    "# Lexis Nexis\n",
    "\n",
    "Even though the API specifically mentions that this isn't to be used to make a script, I still tried and got the following:"
   ]
  },
  {
   "cell_type": "code",
   "execution_count": 11,
   "metadata": {},
   "outputs": [],
   "source": [
    "url = \"http://advance.lexis.com.proxy.uba.uva.nl/api/search?q=burden%20of%20proof&collection=cases&qlang=bool&context=1516831\"\n",
    "response = requests.get(url)\n",
    "\n",
    "# print(response.text)"
   ]
  },
  {
   "cell_type": "markdown",
   "metadata": {},
   "source": [
    "We get an URL to a login screen, which means you have to login regardless of the proxy, making it impossible to script this at a large scale"
   ]
  },
  {
   "cell_type": "markdown",
   "metadata": {},
   "source": [
    "# Replication data of Mueller & Rauh (2022)\n",
    "\n",
    "The data in this folder was retrieved from the hardvard dataverse page of Mueller & Rauh's paper, see https://doi.org/10.7910/DVN/UX8GUZ\n",
    "\n",
    "Here we retrieve the main data they inputted to their model to explore how useful the data is for us"
   ]
  },
  {
   "cell_type": "code",
   "execution_count": null,
   "metadata": {},
   "outputs": [],
   "source": [
    "# import .dta file\n",
    "import pandas as pd\n",
    "import numpy as np\n",
    "\n",
    "data_path = \"../../data/baselines/mullerrauhrepl\""
   ]
  },
  {
   "cell_type": "code",
   "execution_count": null,
   "metadata": {},
   "outputs": [],
   "source": [
    "# import the data_info_all_svi.dta file\n",
    "data = pd.read_stata(f'{data_path}/data_info_all_svi.dta')"
   ]
  },
  {
   "cell_type": "code",
   "execution_count": null,
   "metadata": {},
   "outputs": [
    {
     "data": {
      "text/html": [
       "<div>\n",
       "<style scoped>\n",
       "    .dataframe tbody tr th:only-of-type {\n",
       "        vertical-align: middle;\n",
       "    }\n",
       "\n",
       "    .dataframe tbody tr th {\n",
       "        vertical-align: top;\n",
       "    }\n",
       "\n",
       "    .dataframe thead th {\n",
       "        text-align: right;\n",
       "    }\n",
       "</style>\n",
       "<table border=\"1\" class=\"dataframe\">\n",
       "  <thead>\n",
       "    <tr style=\"text-align: right;\">\n",
       "      <th></th>\n",
       "      <th>v1</th>\n",
       "      <th>article_id</th>\n",
       "      <th>country</th>\n",
       "      <th>paper</th>\n",
       "      <th>chadefaux_count</th>\n",
       "      <th>uncertainty</th>\n",
       "      <th>ep</th>\n",
       "      <th>year</th>\n",
       "      <th>month</th>\n",
       "      <th>quarter</th>\n",
       "    </tr>\n",
       "  </thead>\n",
       "  <tbody>\n",
       "    <tr>\n",
       "      <th>0</th>\n",
       "      <td>0</td>\n",
       "      <td>1</td>\n",
       "      <td>Bhutan</td>\n",
       "      <td>BBC</td>\n",
       "      <td>0</td>\n",
       "      <td>0</td>\n",
       "      <td>0</td>\n",
       "      <td>2016.0</td>\n",
       "      <td>1.0</td>\n",
       "      <td>1.0</td>\n",
       "    </tr>\n",
       "    <tr>\n",
       "      <th>1</th>\n",
       "      <td>1</td>\n",
       "      <td>2</td>\n",
       "      <td>Bhutan</td>\n",
       "      <td>BBC</td>\n",
       "      <td>0</td>\n",
       "      <td>0</td>\n",
       "      <td>0</td>\n",
       "      <td>2016.0</td>\n",
       "      <td>2.0</td>\n",
       "      <td>1.0</td>\n",
       "    </tr>\n",
       "    <tr>\n",
       "      <th>2</th>\n",
       "      <td>2</td>\n",
       "      <td>3</td>\n",
       "      <td>Bhutan</td>\n",
       "      <td>BBC</td>\n",
       "      <td>0</td>\n",
       "      <td>0</td>\n",
       "      <td>0</td>\n",
       "      <td>2016.0</td>\n",
       "      <td>2.0</td>\n",
       "      <td>1.0</td>\n",
       "    </tr>\n",
       "    <tr>\n",
       "      <th>3</th>\n",
       "      <td>3</td>\n",
       "      <td>4</td>\n",
       "      <td>Bhutan</td>\n",
       "      <td>BBC</td>\n",
       "      <td>0</td>\n",
       "      <td>0</td>\n",
       "      <td>10</td>\n",
       "      <td>2016.0</td>\n",
       "      <td>2.0</td>\n",
       "      <td>1.0</td>\n",
       "    </tr>\n",
       "    <tr>\n",
       "      <th>4</th>\n",
       "      <td>4</td>\n",
       "      <td>5</td>\n",
       "      <td>Bhutan</td>\n",
       "      <td>BBC</td>\n",
       "      <td>0</td>\n",
       "      <td>0</td>\n",
       "      <td>0</td>\n",
       "      <td>2016.0</td>\n",
       "      <td>3.0</td>\n",
       "      <td>1.0</td>\n",
       "    </tr>\n",
       "  </tbody>\n",
       "</table>\n",
       "</div>"
      ],
      "text/plain": [
       "   v1  article_id country paper  chadefaux_count  uncertainty  ep    year  \\\n",
       "0   0           1  Bhutan   BBC                0            0   0  2016.0   \n",
       "1   1           2  Bhutan   BBC                0            0   0  2016.0   \n",
       "2   2           3  Bhutan   BBC                0            0   0  2016.0   \n",
       "3   3           4  Bhutan   BBC                0            0  10  2016.0   \n",
       "4   4           5  Bhutan   BBC                0            0   0  2016.0   \n",
       "\n",
       "   month  quarter  \n",
       "0    1.0      1.0  \n",
       "1    2.0      1.0  \n",
       "2    2.0      1.0  \n",
       "3    2.0      1.0  \n",
       "4    3.0      1.0  "
      ]
     },
     "metadata": {},
     "output_type": "display_data"
    }
   ],
   "source": [
    "data.head()"
   ]
  }
 ],
 "metadata": {
  "kernelspec": {
   "display_name": "anaconda",
   "language": "python",
   "name": "python3"
  },
  "language_info": {
   "codemirror_mode": {
    "name": "ipython",
    "version": 3
   },
   "file_extension": ".py",
   "mimetype": "text/x-python",
   "name": "python",
   "nbconvert_exporter": "python",
   "pygments_lexer": "ipython3",
   "version": "3.12.1"
  }
 },
 "nbformat": 4,
 "nbformat_minor": 2
}
