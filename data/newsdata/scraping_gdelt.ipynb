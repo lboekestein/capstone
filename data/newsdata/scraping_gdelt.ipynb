{
 "cells": [
  {
   "cell_type": "markdown",
   "metadata": {},
   "source": [
    "# Scraping the GDELT dataset"
   ]
  },
  {
   "cell_type": "markdown",
   "metadata": {},
   "source": [
    "What we need is a df with:\n",
    "- date\n",
    "- source country of article\n",
    "- country article mentions\n",
    "- theme(s) of article OR article text\n",
    "\n",
    "OR\n",
    "- date\n",
    "- percentage of articles from source country x mentioning country y that have theme z\n",
    "    - could be smoothed over time, but not backwards in time"
   ]
  },
  {
   "cell_type": "code",
   "execution_count": 13,
   "metadata": {},
   "outputs": [],
   "source": [
    "import pandas as pd\n",
    "import urllib.parse\n",
    "import pickle\n",
    "\n",
    "countries_path = 'saves/countries_dict.pickle'\n",
    "themes_path = 'saves/themes_list.pickle'\n",
    "countries_capitals_path = 'saves/countries_capitals.csv'"
   ]
  },
  {
   "cell_type": "markdown",
   "metadata": {},
   "source": [
    "Then we import the auxiliary datasets"
   ]
  },
  {
   "cell_type": "code",
   "execution_count": 15,
   "metadata": {},
   "outputs": [],
   "source": [
    "with open(countries_path, 'rb') as f:\n",
    "    countries = pickle.load(f)\n",
    "\n",
    "with open(themes_path, 'rb') as f:\n",
    "    themes = pickle.load(f)\n",
    "\n",
    "countries_capitals = pd.read_csv(countries_capitals_path)"
   ]
  },
  {
   "cell_type": "markdown",
   "metadata": {},
   "source": [
    "# Functions to scrape"
   ]
  },
  {
   "cell_type": "code",
   "execution_count": 6,
   "metadata": {},
   "outputs": [],
   "source": [
    "dict = {\n",
    "    \"theme\" : \"Terror\",\n",
    "    \"query\" : \"Netherlands\",\n",
    "    \"mode\" : \"TimelineSourceCountry\",\n",
    "    \"format\" : \"csv\",\n",
    "    \"startdatetime\" : \"20170101010000\",\n",
    "    \"enddatetime\" : \"20240223143054\",\n",
    "}"
   ]
  },
  {
   "cell_type": "code",
   "execution_count": 7,
   "metadata": {},
   "outputs": [],
   "source": [
    "def querybuilder(dict):\n",
    "    base_url = \"https://api.gdeltproject.org/api/v2/doc/doc?\"\n",
    "    url = base_url + \"&\".join([f\"{key}={value}\" for key, value in dict.items()])\n",
    "    url = urllib.parse.quote(url, safe=':/?&=')\n",
    "    return url\n",
    "\n",
    "def get_gdelt_data(theme, country, start_date, end_date):\n",
    "    dict = {\n",
    "        \"theme\": theme,\n",
    "        \"query\": countries[country],\n",
    "        \"mode\": \"TimelineSourceCountry\",\n",
    "        \"format\": \"csv\",\n",
    "        \"startdatetime\": start_date,\n",
    "        \"enddatetime\": end_date,\n",
    "    }\n",
    "    url = querybuilder(dict)\n",
    "    df = pd.read_csv(url)\n",
    "    return df\n",
    "\n",
    "def scrape_gdelt(themes, countries, start_date, end_date, verbose=False):\n",
    "    df_list = []\n",
    "    for theme in themes:\n",
    "        for country in countries:\n",
    "            if verbose:\n",
    "                print(f\"Scraping {theme} in {country}\")\n",
    "            df = get_gdelt_data(theme, country, start_date, end_date)\n",
    "            df['theme'] = theme\n",
    "            df['country'] = country\n",
    "            df_list.append(df)\n",
    "    return pd.concat(df_list)"
   ]
  },
  {
   "cell_type": "markdown",
   "metadata": {},
   "source": [
    "# Testing methods"
   ]
  },
  {
   "cell_type": "code",
   "execution_count": 8,
   "metadata": {},
   "outputs": [
    {
     "data": {
      "text/html": [
       "<div>\n",
       "<style scoped>\n",
       "    .dataframe tbody tr th:only-of-type {\n",
       "        vertical-align: middle;\n",
       "    }\n",
       "\n",
       "    .dataframe tbody tr th {\n",
       "        vertical-align: top;\n",
       "    }\n",
       "\n",
       "    .dataframe thead th {\n",
       "        text-align: right;\n",
       "    }\n",
       "</style>\n",
       "<table border=\"1\" class=\"dataframe\">\n",
       "  <thead>\n",
       "    <tr style=\"text-align: right;\">\n",
       "      <th></th>\n",
       "      <th>Date</th>\n",
       "      <th>Series</th>\n",
       "      <th>Value</th>\n",
       "    </tr>\n",
       "  </thead>\n",
       "  <tbody>\n",
       "    <tr>\n",
       "      <th>0</th>\n",
       "      <td>2017-01-02</td>\n",
       "      <td>Switzerland Volume Intensity</td>\n",
       "      <td>0.9921</td>\n",
       "    </tr>\n",
       "    <tr>\n",
       "      <th>1</th>\n",
       "      <td>2017-01-03</td>\n",
       "      <td>Switzerland Volume Intensity</td>\n",
       "      <td>1.3936</td>\n",
       "    </tr>\n",
       "    <tr>\n",
       "      <th>2</th>\n",
       "      <td>2017-01-04</td>\n",
       "      <td>Switzerland Volume Intensity</td>\n",
       "      <td>0.8653</td>\n",
       "    </tr>\n",
       "    <tr>\n",
       "      <th>3</th>\n",
       "      <td>2017-01-05</td>\n",
       "      <td>Switzerland Volume Intensity</td>\n",
       "      <td>1.3412</td>\n",
       "    </tr>\n",
       "    <tr>\n",
       "      <th>4</th>\n",
       "      <td>2017-01-06</td>\n",
       "      <td>Switzerland Volume Intensity</td>\n",
       "      <td>0.9510</td>\n",
       "    </tr>\n",
       "  </tbody>\n",
       "</table>\n",
       "</div>"
      ],
      "text/plain": [
       "         Date                        Series   Value\n",
       "0  2017-01-02  Switzerland Volume Intensity  0.9921\n",
       "1  2017-01-03  Switzerland Volume Intensity  1.3936\n",
       "2  2017-01-04  Switzerland Volume Intensity  0.8653\n",
       "3  2017-01-05  Switzerland Volume Intensity  1.3412\n",
       "4  2017-01-06  Switzerland Volume Intensity  0.9510"
      ]
     },
     "execution_count": 8,
     "metadata": {},
     "output_type": "execute_result"
    }
   ],
   "source": [
    "url = querybuilder(dict)\n",
    "df = pd.read_csv(url)\n",
    "df.head()"
   ]
  },
  {
   "cell_type": "markdown",
   "metadata": {},
   "source": [
    "Test for a few countries and a few themes:"
   ]
  },
  {
   "cell_type": "code",
   "execution_count": null,
   "metadata": {},
   "outputs": [],
   "source": [
    "countries_subset = [str(item) for item in countries.keys()][:5]\n",
    "themes_subset = themes[:5]\n",
    "\n",
    "start_date_test = \"20170101010000\"\n",
    "end_date_test = \"20170223143054\"\n",
    "\n",
    "scarped_test = scrape_gdelt(themes_subset, countries_subset, start_date_test, end_date_test)"
   ]
  },
  {
   "cell_type": "code",
   "execution_count": null,
   "metadata": {},
   "outputs": [],
   "source": [
    "# rename columns\n",
    "scarped_test.columns = [\"Date\", \"Source country\", \"Intensity\", \"Theme\", \"Target country\"]\n",
    "\n",
    "# clean up source country column\n",
    "scarped_test[\"Source country\"] = scarped_test[\"Source country\"].str.replace(\" Volume Intensity\", \"\")\n",
    "\n",
    "# sort on source country, date and theme\n",
    "scarped_test = scarped_test.sort_values(by=[\"Source country\", \"Date\", \"Target country\", \"Theme\"])\n",
    "\n",
    "scarped_clean = scarped_test[scarped_test[\"Source country\"] != \"\"]\n",
    "\n",
    "scarped_clean.head(10)"
   ]
  },
  {
   "cell_type": "code",
   "execution_count": null,
   "metadata": {},
   "outputs": [],
   "source": [
    "# pivot the table\n",
    "scarped_test_pivot = scarped_clean.pivot_table(index=[\"Date\", \"Source country\", \"Target country\"], columns=[\"Theme\"], values=\"Intensity\").reset_index()\n",
    "\n",
    "# set the \"Date\" as the index\n",
    "scarped_test_pivot = scarped_test_pivot.set_index(\"Date\")\n",
    "\n",
    "scarped_test_pivot.head()"
   ]
  },
  {
   "cell_type": "markdown",
   "metadata": {},
   "source": [
    "Using this method we can create a dataframe that contains the volume of coverage in country x talking about country y, and that have theme z. This is the data that we want.\n",
    "\n",
    "However, we need to then iterate over all countries and all themes. For this we need to make a dictionary that for each country decides the ways that country can be referred to, and a list of all the themes that we want to measure volume for.\n",
    "\n",
    "We can then make a function that iterates and makes repeated API calls for all combinations, and use some data wrangling to get all data into one dataframe."
   ]
  },
  {
   "cell_type": "markdown",
   "metadata": {},
   "source": [
    "# Scraping all data\n",
    "\n",
    "For this we need the dataset on all the country names, and the themes list"
   ]
  }
 ],
 "metadata": {
  "kernelspec": {
   "display_name": "capstone",
   "language": "python",
   "name": "python3"
  },
  "language_info": {
   "codemirror_mode": {
    "name": "ipython",
    "version": 3
   },
   "file_extension": ".py",
   "mimetype": "text/x-python",
   "name": "python",
   "nbconvert_exporter": "python",
   "pygments_lexer": "ipython3",
   "version": "3.12.1"
  }
 },
 "nbformat": 4,
 "nbformat_minor": 2
}
