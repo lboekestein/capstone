{
 "cells": [
  {
   "cell_type": "markdown",
   "metadata": {},
   "source": [
    "# Trying out ways to retrieve datasets\n",
    "\n",
    "Quickly experimenting and testing out different methods that could be useful\n",
    "\n",
    "### GDELT & Google BigQuery\n",
    "\n",
    "Import BigQuery and set up Client"
   ]
  },
  {
   "cell_type": "code",
   "execution_count": 8,
   "metadata": {},
   "outputs": [],
   "source": [
    "import requests\n",
    "from google.cloud import bigquery"
   ]
  },
  {
   "cell_type": "code",
   "execution_count": 9,
   "metadata": {},
   "outputs": [],
   "source": [
    "client = bigquery.Client()"
   ]
  },
  {
   "cell_type": "code",
   "execution_count": 4,
   "metadata": {},
   "outputs": [],
   "source": [
    "dataset_ref = client.dataset(\"gdeltv2\", project=\"gdelt-bq\")\n",
    "dataset = client.get_dataset(dataset_ref)\n",
    "tables = list(client.list_tables(dataset))"
   ]
  },
  {
   "cell_type": "markdown",
   "metadata": {},
   "source": [
    "Setup dryrun query"
   ]
  },
  {
   "cell_type": "code",
   "execution_count": 5,
   "metadata": {},
   "outputs": [],
   "source": [
    "job_config = bigquery.QueryJobConfig(dry_run=True, use_query_cache=False)\n",
    "\n",
    "query = \"\"\"\n",
    "        SELECT GKGRECORDID, DATE, SourceCollectionIdentifier, SourceCommonName, V2Themes, V2Tone, Dates, GCAM, Amounts, TranslationInfo\n",
    "        FROM `gdelt-bq.gdeltv2.gkg`\n",
    "        LIMIT 300\n",
    "        \"\"\""
   ]
  },
  {
   "cell_type": "markdown",
   "metadata": {},
   "source": [
    "Run the Query dry and display estimated amount of bytes used"
   ]
  },
  {
   "cell_type": "code",
   "execution_count": 6,
   "metadata": {},
   "outputs": [
    {
     "name": "stdout",
     "output_type": "stream",
     "text": [
      "This query will process 14948953384706 bytes.\n"
     ]
    }
   ],
   "source": [
    "query_job = client.query(query, job_config=job_config)\n",
    "\n",
    "print(\"This query will process {} bytes.\".format(query_job.total_bytes_processed))"
   ]
  },
  {
   "cell_type": "markdown",
   "metadata": {},
   "source": [
    "`14948953384706` bytes equals `14.95` TB of Queried data, which is too much for the free tier, and approximates to about €90 of credits in Google BigQuery"
   ]
  },
  {
   "cell_type": "markdown",
   "metadata": {},
   "source": [
    "# Directly retrieve CSV's from GDELT\n",
    "\n",
    "This would be the way to retrieve the individual parts of the dataset manually"
   ]
  },
  {
   "cell_type": "code",
   "execution_count": 10,
   "metadata": {},
   "outputs": [
    {
     "name": "stdout",
     "output_type": "stream",
     "text": [
      "File size: 9117874 bytes\n"
     ]
    }
   ],
   "source": [
    "url = \"http://data.gdeltproject.org/gdeltv2/20150218224500.translation.gkg.csv.zip\"\n",
    "response = requests.head(url)\n",
    "if response.status_code == 200:\n",
    "    print(\"File size:\", response.headers['Content-Length'], \"bytes\")\n",
    "else:\n",
    "    print(\"Error:\", response.status_code)"
   ]
  },
  {
   "cell_type": "markdown",
   "metadata": {},
   "source": [
    "# Lexis Nexis\n",
    "\n",
    "Even though the API specifically mentions that this isn't to be used to make a script, I still tried and got the following:"
   ]
  },
  {
   "cell_type": "code",
   "execution_count": 11,
   "metadata": {},
   "outputs": [],
   "source": [
    "url = \"http://advance.lexis.com.proxy.uba.uva.nl/api/search?q=burden%20of%20proof&collection=cases&qlang=bool&context=1516831\"\n",
    "response = requests.get(url)\n",
    "\n",
    "# print(response.text)"
   ]
  },
  {
   "cell_type": "markdown",
   "metadata": {},
   "source": [
    "We get an URL to a login screen, which means you have to login regardless of the proxy, making it impossible to script this at a large scale"
   ]
  }
 ],
 "metadata": {
  "kernelspec": {
   "display_name": "anaconda",
   "language": "python",
   "name": "python3"
  },
  "language_info": {
   "codemirror_mode": {
    "name": "ipython",
    "version": 3
   },
   "file_extension": ".py",
   "mimetype": "text/x-python",
   "name": "python",
   "nbconvert_exporter": "python",
   "pygments_lexer": "ipython3",
   "version": "3.12.1"
  }
 },
 "nbformat": 4,
 "nbformat_minor": 2
}
